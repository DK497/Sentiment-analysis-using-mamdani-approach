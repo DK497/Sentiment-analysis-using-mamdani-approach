{
  "nbformat": 4,
  "nbformat_minor": 0,
  "metadata": {
    "colab": {
      "name": "Modified fuzzy controller",
      "provenance": [],
      "collapsed_sections": []
    },
    "kernelspec": {
      "name": "python3",
      "display_name": "Python 3"
    }
  },
  "cells": [
    {
      "cell_type": "code",
      "metadata": {
        "id": "6BWL5FIP0eGT",
        "outputId": "ef74bf14-b95a-4b94-ae2e-9877c9e42034",
        "colab": {
          "base_uri": "https://localhost:8080/",
          "height": 243
        }
      },
      "source": [
        "pip install twython"
      ],
      "execution_count": 1,
      "outputs": [
        {
          "output_type": "stream",
          "text": [
            "Collecting twython\n",
            "  Downloading https://files.pythonhosted.org/packages/24/80/579b96dfaa9b536efde883d4f0df7ea2598a6f3117a6dd572787f4a2bcfb/twython-3.8.2-py3-none-any.whl\n",
            "Requirement already satisfied: requests-oauthlib>=0.4.0 in /usr/local/lib/python3.6/dist-packages (from twython) (1.3.0)\n",
            "Requirement already satisfied: requests>=2.1.0 in /usr/local/lib/python3.6/dist-packages (from twython) (2.23.0)\n",
            "Requirement already satisfied: oauthlib>=3.0.0 in /usr/local/lib/python3.6/dist-packages (from requests-oauthlib>=0.4.0->twython) (3.1.0)\n",
            "Requirement already satisfied: idna<3,>=2.5 in /usr/local/lib/python3.6/dist-packages (from requests>=2.1.0->twython) (2.10)\n",
            "Requirement already satisfied: certifi>=2017.4.17 in /usr/local/lib/python3.6/dist-packages (from requests>=2.1.0->twython) (2020.6.20)\n",
            "Requirement already satisfied: chardet<4,>=3.0.2 in /usr/local/lib/python3.6/dist-packages (from requests>=2.1.0->twython) (3.0.4)\n",
            "Requirement already satisfied: urllib3!=1.25.0,!=1.25.1,<1.26,>=1.21.1 in /usr/local/lib/python3.6/dist-packages (from requests>=2.1.0->twython) (1.24.3)\n",
            "Installing collected packages: twython\n",
            "Successfully installed twython-3.8.2\n"
          ],
          "name": "stdout"
        }
      ]
    },
    {
      "cell_type": "code",
      "metadata": {
        "id": "JojceSuDzot4",
        "outputId": "445cadac-a8e8-400d-9de4-2820d075e65f",
        "colab": {
          "base_uri": "https://localhost:8080/",
          "height": 299
        }
      },
      "source": [
        "pip install -U scikit-fuzzy"
      ],
      "execution_count": 2,
      "outputs": [
        {
          "output_type": "stream",
          "text": [
            "Collecting scikit-fuzzy\n",
            "\u001b[?25l  Downloading https://files.pythonhosted.org/packages/6c/f0/5eb5dbe0fd8dfe7d4651a8f4e591a196623a22b9e5339101e559695b4f6c/scikit-fuzzy-0.4.2.tar.gz (993kB)\n",
            "\u001b[K     |████████████████████████████████| 1.0MB 2.7MB/s \n",
            "\u001b[?25hRequirement already satisfied, skipping upgrade: numpy>=1.6.0 in /usr/local/lib/python3.6/dist-packages (from scikit-fuzzy) (1.18.5)\n",
            "Requirement already satisfied, skipping upgrade: scipy>=0.9.0 in /usr/local/lib/python3.6/dist-packages (from scikit-fuzzy) (1.4.1)\n",
            "Requirement already satisfied, skipping upgrade: networkx>=1.9.0 in /usr/local/lib/python3.6/dist-packages (from scikit-fuzzy) (2.5)\n",
            "Requirement already satisfied, skipping upgrade: decorator>=4.3.0 in /usr/local/lib/python3.6/dist-packages (from networkx>=1.9.0->scikit-fuzzy) (4.4.2)\n",
            "Building wheels for collected packages: scikit-fuzzy\n",
            "  Building wheel for scikit-fuzzy (setup.py) ... \u001b[?25l\u001b[?25hdone\n",
            "  Created wheel for scikit-fuzzy: filename=scikit_fuzzy-0.4.2-cp36-none-any.whl size=894070 sha256=4f7e1c44f5d34f6aa4896e675f7cd47b8b95ff059a0a9c65ba6485e045638bf6\n",
            "  Stored in directory: /root/.cache/pip/wheels/b9/4e/77/da79b16f64ef1738d95486e2731eea09d73e90a72465096600\n",
            "Successfully built scikit-fuzzy\n",
            "Installing collected packages: scikit-fuzzy\n",
            "Successfully installed scikit-fuzzy-0.4.2\n"
          ],
          "name": "stdout"
        }
      ]
    },
    {
      "cell_type": "code",
      "metadata": {
        "id": "-Pt9qFve0gcT",
        "outputId": "6d57aa1d-bb0b-46be-97c3-7adfdfe16e5d",
        "colab": {
          "base_uri": "https://localhost:8080/",
          "height": 54
        }
      },
      "source": [
        "import nltk\n",
        "nltk.download('vader_lexicon')"
      ],
      "execution_count": 3,
      "outputs": [
        {
          "output_type": "stream",
          "text": [
            "[nltk_data] Downloading package vader_lexicon to /root/nltk_data...\n"
          ],
          "name": "stdout"
        },
        {
          "output_type": "execute_result",
          "data": {
            "text/plain": [
              "True"
            ]
          },
          "metadata": {
            "tags": []
          },
          "execution_count": 3
        }
      ]
    },
    {
      "cell_type": "code",
      "metadata": {
        "id": "ys0c97YH3-r9",
        "outputId": "8b4d7a0d-a5d7-4075-9eef-d59a5273874b",
        "colab": {
          "resources": {
            "http://localhost:8080/nbextensions/google.colab/files.js": {
              "data": "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",
              "ok": true,
              "headers": [
                [
                  "content-type",
                  "application/javascript"
                ]
              ],
              "status": 200,
              "status_text": "OK"
            }
          },
          "base_uri": "https://localhost:8080/",
          "height": 75
        }
      },
      "source": [
        "import pandas as pd\n",
        "import re\n",
        "import numpy as np\n",
        "import skfuzzy as fuzz\n",
        "import matplotlib.pyplot as plt\n",
        "from nltk.sentiment.vader import SentimentIntensityAnalyzer\n",
        "import time\n",
        "import io\n",
        "from google.colab import files\n",
        "upload = files.upload() \n",
        "traindata = pd.read_csv(io.StringIO(upload['nuclear.csv'].decode('ISO-8859-1')))\n",
        "start = time.time()"
      ],
      "execution_count": 6,
      "outputs": [
        {
          "output_type": "display_data",
          "data": {
            "text/html": [
              "\n",
              "     <input type=\"file\" id=\"files-80e6405f-0987-4687-9f44-b3bcf036af1d\" name=\"files[]\" multiple disabled\n",
              "        style=\"border:none\" />\n",
              "     <output id=\"result-80e6405f-0987-4687-9f44-b3bcf036af1d\">\n",
              "      Upload widget is only available when the cell has been executed in the\n",
              "      current browser session. Please rerun this cell to enable.\n",
              "      </output>\n",
              "      <script src=\"/nbextensions/google.colab/files.js\"></script> "
            ],
            "text/plain": [
              "<IPython.core.display.HTML object>"
            ]
          },
          "metadata": {
            "tags": []
          }
        },
        {
          "output_type": "stream",
          "text": [
            "Saving nuclear.csv to nuclear (1).csv\n"
          ],
          "name": "stdout"
        }
      ]
    },
    {
      "cell_type": "code",
      "metadata": {
        "id": "gXkbXQZh4nok",
        "outputId": "643b626c-e961-4507-aac6-3d5278b35027",
        "colab": {
          "base_uri": "https://localhost:8080/",
          "height": 54
        }
      },
      "source": [
        "doc=traindata.tweet_text\n",
        "print(len(doc))\n",
        "sentidoc=traindata.sentiment\n",
        "len(sentidoc)"
      ],
      "execution_count": 7,
      "outputs": [
        {
          "output_type": "stream",
          "text": [
            "190\n"
          ],
          "name": "stdout"
        },
        {
          "output_type": "execute_result",
          "data": {
            "text/plain": [
              "190"
            ]
          },
          "metadata": {
            "tags": []
          },
          "execution_count": 7
        }
      ]
    },
    {
      "cell_type": "code",
      "metadata": {
        "id": "3CmrEOcMkVjQ",
        "outputId": "4a30a8bf-5654-48f8-9d1e-8ea5a748dd08",
        "colab": {
          "base_uri": "https://localhost:8080/",
          "height": 54
        }
      },
      "source": [
        "# doc=[]\n",
        "# sentidoc=[]\n",
        "# for j in range(len(traindata.tweet_text)):\n",
        "#   if traindata.sentiment[j]=='irrelevant':\n",
        "#     continue\n",
        "#   else:\n",
        "#     doc.append(traindata.tweet_text[j])\n",
        "#     sentidoc.append(traindata.sentiment[j])\n",
        "# print(len(doc))\n",
        "# len(sentidoc)"
      ],
      "execution_count": null,
      "outputs": [
        {
          "output_type": "stream",
          "text": [
            "3424\n"
          ],
          "name": "stdout"
        },
        {
          "output_type": "execute_result",
          "data": {
            "text/plain": [
              "3424"
            ]
          },
          "metadata": {
            "tags": []
          },
          "execution_count": 10
        }
      ]
    },
    {
      "cell_type": "code",
      "metadata": {
        "id": "UWUY0a8y4q5l",
        "outputId": "6f3de4dc-0dab-47c2-a7af-9e040e254402",
        "colab": {
          "base_uri": "https://localhost:8080/",
          "height": 36
        }
      },
      "source": [
        "tweets=[]\n",
        "senti=[]\n",
        "\n",
        "\n",
        "\n",
        "for j in range(len(doc)):\n",
        "    str1=doc[j]\n",
        "    str2=str1.lower()\n",
        "    tweets.append(str2)   # converted into lower case\n",
        "    senti.append(sentidoc[j])\n",
        "\n",
        "len(senti)"
      ],
      "execution_count": 8,
      "outputs": [
        {
          "output_type": "execute_result",
          "data": {
            "text/plain": [
              "190"
            ]
          },
          "metadata": {
            "tags": []
          },
          "execution_count": 8
        }
      ]
    },
    {
      "cell_type": "code",
      "metadata": {
        "id": "R9dKAoWF4uGa"
      },
      "source": [
        "def preprocessing(phrase):   # text pre-processing \n",
        "        # specific\n",
        "        phrase = re.sub(r'\\W', ' ', phrase)  # Remove all the special characters\n",
        "        phrase = re.sub(r\"won't\", \"will not\", phrase)\n",
        "        phrase = re.sub(r\"can\\'t\", \"can not\", phrase)\n",
        "        phrase = re.sub(r\"@\", \"\" , phrase)         # removal of @\n",
        "        phrase =  re.sub(r\"http\\S+\", \"\", phrase)   # removal of URLs\n",
        "        phrase = re.sub(r\"#\", \"\", phrase)          # hashtag processing\n",
        "\n",
        "        phrase= re.sub(r'\\s+[a-zA-Z]\\s+', ' ', phrase)  # remove all single characters\n",
        "   \n",
        "        phrase = re.sub(r'\\^[a-zA-Z]\\s+', ' ', phrase)          # Remove single characters from the start\n",
        "    # Substituting multiple spaces with single space\n",
        "        phrase = re.sub(r'\\s+', ' ', phrase, flags=re.I)\n",
        "\n",
        "    # Removing prefixed 'b'\n",
        "        phrase = re.sub(r'^b\\s+', '', phrase)\n",
        "    \n",
        "        # general\n",
        "        phrase = re.sub(r\"n\\'t\", \" not\", phrase)\n",
        "        phrase = re.sub(r\"\\'re\", \" are\", phrase)\n",
        "        phrase = re.sub(r\"\\'s\", \" is\", phrase)\n",
        "        phrase = re.sub(r\"\\'d\", \" would\", phrase)\n",
        "        phrase = re.sub(r\"\\'ll\", \" will\", phrase)\n",
        "        phrase = re.sub(r\"\\'t\", \" not\", phrase)\n",
        "        phrase = re.sub(r\"\\'ve\", \" have\", phrase)\n",
        "        phrase = re.sub(r\"\\'m\", \" am\", phrase)\n",
        "        return phrase"
      ],
      "execution_count": 9,
      "outputs": []
    },
    {
      "cell_type": "code",
      "metadata": {
        "id": "WLyFpi--4ywM"
      },
      "source": [
        "for k in range(len(doc)):\n",
        "    tweets[k]=preprocessing(tweets[k])"
      ],
      "execution_count": 10,
      "outputs": []
    },
    {
      "cell_type": "code",
      "metadata": {
        "id": "FftXPjE6ikE-",
        "outputId": "37ff5bf7-29f3-4ba7-c444-d5099711529b",
        "colab": {
          "base_uri": "https://localhost:8080/",
          "height": 54
        }
      },
      "source": [
        "# k=455\n",
        "# print(doc[k])\n",
        "# print(tweets[k])"
      ],
      "execution_count": null,
      "outputs": [
        {
          "output_type": "stream",
          "text": [
            "@Apple #iOS5 NONSTOP DROPPED CALLS&MUTE BUTTON RANDOMLY ACTIVATING&PERSON CANT HEAR ME, PULL PHONE FROM EAR TO BE ON A \"MOBILE ME\" SCREEN\n",
            " apple  ios5 nonstop dropped calls mute button randomly activating person cant hear me  pull phone from ear to be on mobile me  screen\n"
          ],
          "name": "stdout"
        }
      ]
    },
    {
      "cell_type": "markdown",
      "metadata": {
        "id": "NsponKHa44Gh"
      },
      "source": [
        "Descriptors\n"
      ]
    },
    {
      "cell_type": "code",
      "metadata": {
        "id": "3Uhf11wc42TG"
      },
      "source": [
        "# # trimf\n",
        "x_p = np.arange(0, 1, 0.05)\n",
        "x_n = np.arange(0, 1, 0.05)\n",
        "x_op = np.arange(0, 10, 0.5)\n",
        "\n",
        "# Generate fuzzy membership functions\n",
        "p_v_lo=fuzz.trimf(x_p, [0, 0, 0.25])\n",
        "p_lo = fuzz.trimf(x_p, [0, 0.25, 0.5])\n",
        "p_md = fuzz.trimf(x_p, [0.25, 0.5, 0.75])\n",
        "p_hi = fuzz.trimf(x_p, [0.5, 0.75, 1])\n",
        "p_v_hi = fuzz.trimf(x_p, [0.75, 1, 1])\n",
        "\n",
        "n_v_lo =fuzz.trimf(x_n, [0, 0, 0.25])\n",
        "n_lo = fuzz.trimf(x_n, [0, 0.25, 0.5])\n",
        "n_md = fuzz.trimf(x_n, [0.25, 0.5, 0.75])\n",
        "n_hi = fuzz.trimf(x_n, [0.5, 0.75, 1])\n",
        "n_v_hi = fuzz.trimf(x_n, [0.75, 1, 1])\n",
        "\n",
        "op_v_Neg =fuzz.trimf(x_op, [0, 0, 2.5])\n",
        "op_Neg = fuzz.trimf(x_op, [0, 2.5, 5])\n",
        "op_Neu = fuzz.trimf(x_op, [2.5, 5, 7.5])\n",
        "op_Pos = fuzz.trimf(x_op, [5, 7.5, 10])\n",
        "op_v_Pos = fuzz.trimf(x_op, [7.5, 10, 10])\n",
        "\n",
        "# # op_Neg = fuzz.trimf(x_op, [0, 0, 5])  # Scale : Neg Neu Pos\n",
        "# # op_Neu = fuzz.trimf(x_op, [0, 5, 10])\n",
        "# # op_Pos = fuzz.trimf(x_op, [5, 10, 10])"
      ],
      "execution_count": 11,
      "outputs": []
    },
    {
      "cell_type": "code",
      "metadata": {
        "id": "svFv_UrtfuCV",
        "outputId": "0e379cec-da77-4e0f-bc4d-0fae214f41c0",
        "colab": {
          "base_uri": "https://localhost:8080/",
          "height": 657
        }
      },
      "source": [
        "import matplotlib.pyplot as plt\n",
        "\n",
        "fig, (ax0, ax1, ax2) = plt.subplots(nrows=3, figsize=(8, 9))\n",
        "\n",
        "ax0.plot(x_p, p_v_lo, 'b', linewidth=1.5, label='Very Low')\n",
        "ax0.plot(x_p, p_lo, 'g', linewidth=1.5, label='Low')\n",
        "ax0.plot(x_p, p_md, 'r', linewidth=1.5, label='Medium')\n",
        "ax0.plot(x_p, p_hi, 'm', linewidth=1.5, label='High')\n",
        "ax0.plot(x_p, p_v_hi, 'y', linewidth=1.5, label='Very High')\n",
        "ax0.set_title('Positive')\n",
        "ax0.legend()\n",
        "\n",
        "ax1.plot(x_n, n_v_lo, 'b', linewidth=1.5, label='Very Low')\n",
        "ax1.plot(x_n, n_lo, 'g', linewidth=1.5, label='Low')\n",
        "ax1.plot(x_n, n_md, 'r', linewidth=1.5, label='Medium')\n",
        "ax1.plot(x_n, n_hi, 'm', linewidth=1.5, label='High')\n",
        "ax1.plot(x_n, n_v_hi, 'y', linewidth=1.5, label='Very High')\n",
        "ax1.set_title('Negative')\n",
        "ax1.legend()\n",
        "\n",
        "ax2.plot(x_op, op_v_Neg, 'b', linewidth=1.5, label='Very Neg')\n",
        "ax2.plot(x_op, op_Neg, 'g', linewidth=1.5, label='Neg')\n",
        "ax2.plot(x_op, op_Neu, 'r', linewidth=1.5, label='Neu')\n",
        "ax2.plot(x_op, op_Pos, 'm', linewidth=1.5, label='Pos')\n",
        "ax2.plot(x_op, op_v_Pos, 'y', linewidth=1.5, label='Very Pos')\n",
        "ax2.set_title('Output')\n",
        "ax2.legend()\n",
        "\n",
        "# Turn off top/right axes\n",
        "for ax in (ax0,):\n",
        "    ax.spines['top'].set_visible(False)\n",
        "    ax.spines['right'].set_visible(False)\n",
        "    ax.get_xaxis().tick_bottom()\n",
        "    ax.get_yaxis().tick_left()\n",
        "\n",
        "plt.tight_layout()"
      ],
      "execution_count": null,
      "outputs": [
        {
          "output_type": "display_data",
          "data": {
            "image/png": "[encoded data removed]",
            "text/plain": [
              "<Figure size 576x648 with 3 Axes>"
            ]
          },
          "metadata": {
            "tags": [],
            "needs_background": "light"
          }
        }
      ]
    },
    {
      "cell_type": "code",
      "metadata": {
        "id": "YR2nWCXlJfVA"
      },
      "source": [
        "# x_p = np.arange(0, 1, 0.05)\n",
        "# x_n = np.arange(0, 1, 0.05)\n",
        "# x_op = np.arange(0, 10, 0.5)\n",
        "\n",
        "# # Generate fuzzy membership functions\n",
        "# p_v_lo=fuzz.trapmf(x_p, [0, 0,0, 0.25])\n",
        "# p_lo = fuzz.trapmf(x_p, [0, 0.15,0.35, 0.5])\n",
        "# p_md = fuzz.trapmf(x_p, [0.25, 0.4,0.6, 0.75])\n",
        "# p_hi = fuzz.trapmf(x_p, [0.5,0.65,0.85, 1])\n",
        "# p_v_hi = fuzz.trapmf(x_p, [0.85, 1,1, 1])\n",
        "\n",
        "# n_v_lo =fuzz.trapmf(x_n, [0, 0,0, 0.25])\n",
        "# n_lo = fuzz.trapmf(x_n, [0, 0.15,0.35, 0.5])\n",
        "# n_md = fuzz.trapmf(x_n, [0.25, 0.4,0.6, 0.75])\n",
        "# n_hi = fuzz.trapmf(x_n, [0.5,0.65,0.85, 1])\n",
        "# n_v_hi = fuzz.trapmf(x_n, [0.85, 1,1, 1])\n",
        "\n",
        "# op_v_Neg =fuzz.trimf(x_op, [0, 0, 2.5])\n",
        "# op_Neg = fuzz.trimf(x_op, [0, 2.5, 5])\n",
        "# # op_Neu = fuzz.trimf(x_op, [2.5, 5, 7.5])\n",
        "# op_Pos = fuzz.trimf(x_op, [5, 7.5, 10])\n",
        "# op_v_Pos = fuzz.trimf(x_op, [7.5, 10, 10])\n",
        "\n",
        "# # op_Neg = fuzz.trimf(x_op, [0, 0, 5])  # Scale : Neg Neu Pos\n",
        "# # op_Neu = fuzz.trimf(x_op, [0, 5, 10])\n",
        "# # op_Pos = fuzz.trimf(x_op, [5, 10, 10])"
      ],
      "execution_count": null,
      "outputs": []
    },
    {
      "cell_type": "code",
      "metadata": {
        "id": "U9iPmh00_Elk"
      },
      "source": [
        "# 1st approach  (worst results)\n",
        "# SIA = SentimentIntensityAnalyzer()\n",
        "# Out=[]\n",
        "# sentiment=[]\n",
        "# sentiment_doc=[]\n",
        "# for j in range(len(doc)):\n",
        "#     sentiment_doc.append(senti[j])\n",
        "#     ss = SIA.polarity_scores(tweets[j])\n",
        "#     posscore=ss['pos']\n",
        "#     negscore=ss['neg']\n",
        "#     neuscore=ss['neu']\n",
        "#     compoundscore=ss['compound']\n",
        "   \n",
        "#     print(str(j+1)+\" {:-<65} {}\".format(tweets[j], str(ss))) \n",
        "    \n",
        "#     print(\"\\nPositive Score for each  tweet :\")    \n",
        "#     if (posscore==1):\n",
        "#         posscore=0.9 \n",
        "#     else:\n",
        "#         posscore=round(posscore,1)\n",
        "#     print(posscore)\n",
        "\n",
        "#     print(\"\\nNegative Score for each  tweet :\")\n",
        "#     if (negscore==1):\n",
        "#         negscore=0.9\n",
        "#     else:\n",
        "#         negscore=round(negscore,1)\n",
        "#     print(negscore)\n",
        "\n",
        "# # We need the activation of our fuzzy membership functions at these values.\n",
        "#     p_level_v_lo=fuzz.interp_membership(x_p, p_v_lo, posscore)\n",
        "#     p_level_lo = fuzz.interp_membership(x_p, p_lo, posscore)\n",
        "#     p_level_md = fuzz.interp_membership(x_p, p_md, posscore)\n",
        "#     p_level_hi = fuzz.interp_membership(x_p, p_hi, posscore)\n",
        "#     p_level_v_hi = fuzz.interp_membership(x_p, p_v_hi, posscore)\n",
        "    \n",
        "#     n_level_v_lo= fuzz.interp_membership(x_n, n_v_lo, negscore)\n",
        "#     n_level_lo = fuzz.interp_membership(x_n, n_lo, negscore)\n",
        "#     n_level_md = fuzz.interp_membership(x_n, n_md, negscore)\n",
        "#     n_level_hi = fuzz.interp_membership(x_n, n_hi, negscore)\n",
        "#     n_level_v_hi = fuzz.interp_membership(x_n, n_v_hi, negscore)\n",
        "    \n",
        "#     # Now we take our rules and apply them. Rule 1 concerns bad food OR nice.\n",
        "#     # The OR operator means we take the maximum of these two.\n",
        "#     active_rule0 = np.fmin(p_level_v_lo, n_level_v_lo)\n",
        "#     active_rule1 = np.fmin(p_level_lo, n_level_v_lo)\n",
        "#     active_rule2 = np.fmin(p_level_md, n_level_v_lo)\n",
        "#     active_rule3 = np.fmin(p_level_hi,n_level_v_lo)\n",
        "#     active_rule4 = np.fmin(p_level_v_hi, n_level_v_lo)\n",
        "    \n",
        "#     active_rule5 = np.fmin(p_level_v_lo, n_level_lo)\n",
        "#     active_rule6 = np.fmin(p_level_lo, n_level_lo)\n",
        "#     active_rule7 = np.fmin(p_level_md,  n_level_lo)\n",
        "#     active_rule8 = np.fmin(p_level_hi, n_level_lo)\n",
        "#     active_rule9 = np.fmin(p_level_v_hi,  n_level_lo)\n",
        "\n",
        "#     active_rule10 = np.fmin(p_level_v_lo, n_level_md)\n",
        "#     active_rule11 = np.fmin(p_level_lo, n_level_md)\n",
        "#     active_rule12= np.fmin(p_level_md,  n_level_md)\n",
        "#     active_rule13= np.fmin(p_level_hi, n_level_md)\n",
        "#     active_rule14= np.fmin(p_level_v_hi, n_level_md)\n",
        " \n",
        "#     active_rule15 = np.fmin(p_level_v_lo, n_level_hi)\n",
        "#     active_rule16 = np.fmin(p_level_lo, n_level_hi)\n",
        "#     active_rule17 = np.fmin(p_level_md,  n_level_hi)\n",
        "#     active_rule18 = np.fmin(p_level_hi, n_level_hi)\n",
        "#     active_rule19 = np.fmin(p_level_v_hi, n_level_hi)\n",
        "\n",
        "#     active_rule20 = np.fmin(p_level_v_lo, n_level_v_hi)\n",
        "#     active_rule21 = np.fmin(p_level_lo, n_level_v_hi)\n",
        "#     active_rule22 = np.fmin(p_level_md, n_level_v_hi)\n",
        "#     active_rule23 = np.fmin(p_level_hi, n_level_v_hi)\n",
        "#     active_rule24 = np.fmin(p_level_v_hi, n_level_v_hi)\n",
        "    \n",
        "#     # Now we apply this by clipping the top off the corresponding output\n",
        "#     # membership function with `np.fmin`\n",
        "#     # Taking Union of rules with similar output\n",
        "\n",
        "\n",
        "#     n_v_1=np.fmax(active_rule15,active_rule20)\n",
        "#     n_v_2=np.fmax(n_v_1,active_rule21)     \n",
        "\n",
        "#     op_activation_v_lo = np.fmin(n_v_2,op_v_Neg)\n",
        "\n",
        "\n",
        "#     p_v_1=np.fmax(active_rule3,active_rule4)\n",
        "#     p_v_2=np.fmax(p_v_1,active_rule9)   \n",
        "\n",
        "#     op_activation_v_hi = np.fmin(p_v_2,op_v_Pos)\n",
        "\n",
        "\n",
        "#     n_1=np.fmax(active_rule5,active_rule10)\n",
        "#     n_2=np.fmax(n_1,active_rule11) \n",
        "#     n_3=np.fmax(n_2,active_rule16)    \n",
        "#     n_4=np.fmax(n_3,active_rule17)\n",
        "#     n_5=np.fmax(n_4,active_rule22)\n",
        "#     n_6=np.fmax(n_5,active_rule23)  \n",
        "\n",
        "#     op_activation_lo = np.fmin(n_6,op_Neg)\n",
        "\n",
        "\n",
        "#     p_1=np.fmax(active_rule1,active_rule2)\n",
        "#     p_2=np.fmax(p_1,active_rule7) \n",
        "#     p_3=np.fmax(p_2,active_rule8)    \n",
        "#     p_4=np.fmax(p_3,active_rule13)\n",
        "#     p_5=np.fmax(p_4,active_rule14)\n",
        "#     p_6=np.fmax(p_5,active_rule19)    \n",
        "\n",
        "#     op_activation_hi = np.fmin(p_6,op_Pos)\n",
        "    \n",
        "\n",
        "#     neu1=np.fmax(active_rule0,active_rule6)\n",
        "#     neu2=np.fmax(neu1,active_rule12)\n",
        "#     neu3=np.fmax(neu2,active_rule18)\n",
        "#     neu4=np.fmax(neu3,active_rule24)    \n",
        "\n",
        "#     op_activation_md = np.fmin(neu4,op_Neu)\n",
        "\n",
        "#     op0 = np.zeros_like(x_op)\n",
        "    \n",
        "#     # Aggregate all three output membership functions together\n",
        "#     aggregated =np.fmax(op_activation_v_hi,\n",
        "#                         np.fmax(op_activation_v_lo,\n",
        "#                                 np.fmax(op_activation_lo,\n",
        "#                                         np.fmax(op_activation_md, op_activation_hi))))\n",
        "    \n",
        "#     # Calculate defuzzified result\n",
        "#     op = fuzz.defuzz(x_op, aggregated, 'centroid')\n",
        "#     output=round(op,2)\n",
        "#     print(\"OUTPUt\",output)\n",
        "#     Out.append(output)\n",
        "   \n",
        "#     op_activation = fuzz.interp_membership(x_op, aggregated, op)  # for plot\n",
        "#     if 0<(output)<4:    # R\n",
        "#         print(\"\\nOutput after Defuzzification: Negative\")\n",
        "#         sentiment.append(\"Negative\")\n",
        "\n",
        "#     elif 4<(output)<6:\n",
        "#         print(\"\\nOutput after Defuzzification: Neutral\")\n",
        "#         sentiment.append(\"Neutral\")\n",
        "\n",
        "#     elif 6<(output)<10:\n",
        "#         print(\"\\nOutput after Defuzzification: Positive\")\n",
        "#         sentiment.append(\"Positive\")\n",
        "        \n",
        "#     print(\"Doc sentiment: \" +str(senti[j])+\"\\n\")\n",
        "#     print(\"-=-=-=-=-=-=-=-=-=-=-=-=-=-=-=-=-=-=-=-=-=-=-=-=-=-=-=-=-=-=-=-=-=-=\")"
      ],
      "execution_count": null,
      "outputs": []
    },
    {
      "cell_type": "code",
      "metadata": {
        "id": "GLIaH7y6xEJx"
      },
      "source": [
        "# pos=[]\n",
        "# neg=[]\n",
        "# neu=[]\n",
        "# for i in range(len(doc)):\n",
        "#   if senti[i]=='Positive':\n",
        "#     pos.append(tweets[i])\n",
        "#   if senti[i]=='Negative':\n",
        "#     neg.append(tweets[i])\n",
        "#   if senti[i]=='Neutral':\n",
        "#     neu.append(tweets[i])\n",
        "# k=[]\n",
        "# k.append(tweets[1])\n"
      ],
      "execution_count": null,
      "outputs": []
    },
    {
      "cell_type": "code",
      "metadata": {
        "id": "THMxncdWMP3V",
        "outputId": "c96c814d-6f91-45bf-98ef-318ebaa59919",
        "colab": {
          "base_uri": "https://localhost:8080/",
          "height": 36
        }
      },
      "source": [
        "a=[]\n",
        "k=tweets[23]\n",
        "a.append(k)\n",
        "a"
      ],
      "execution_count": 15,
      "outputs": [
        {
          "output_type": "execute_result",
          "data": {
            "text/plain": [
              "[' link would you rather have few dozen wind turbines or nuclear power plant near your home turbines power']"
            ]
          },
          "metadata": {
            "tags": []
          },
          "execution_count": 15
        }
      ]
    },
    {
      "cell_type": "code",
      "metadata": {
        "id": "-6A7kEe6_Cnb",
        "outputId": "bb3c40d0-61be-48c1-acb4-8090f10978dd",
        "colab": {
          "base_uri": "https://localhost:8080/",
          "height": 467
        }
      },
      "source": [
        "# 2nd approach  (best results)\n",
        "SIA = SentimentIntensityAnalyzer()\n",
        "Out=[]\n",
        "sentiment=[]\n",
        "sentiment_doc=[]\n",
        "for j in range(len(a)):\n",
        "    sentiment_doc.append(senti[23])\n",
        "    ss = SIA.polarity_scores(tweets[23])\n",
        "    posscore=ss['pos']\n",
        "    negscore=ss['neg']\n",
        "    neuscore=ss['neu']\n",
        "    compoundscore=ss['compound']\n",
        "   \n",
        "    print(str(j+1)+\" {:-<65} {}\".format(tweets[j], str(ss))) \n",
        "    \n",
        "    print(\"\\nPositive Score for each  tweet :\")    \n",
        "    if (posscore==1):\n",
        "        posscore=0.9 \n",
        "    # else:\n",
        "    #     posscore=round(posscore,1)\n",
        "    print(posscore)\n",
        "\n",
        "    print(\"\\nNegative Score for each  tweet :\")\n",
        "    if (negscore==1):\n",
        "        negscore=0.9\n",
        "    # else:\n",
        "    #     negscore=round(negscore,1)\n",
        "    print(negscore)\n",
        "    \n",
        "# We need the activation of our fuzzy membership functions at these values.\n",
        "    p_level_v_lo=fuzz.interp_membership(x_p, p_v_lo, posscore)\n",
        "    p_level_lo = fuzz.interp_membership(x_p, p_lo, posscore)\n",
        "    p_level_md = fuzz.interp_membership(x_p, p_md, posscore)\n",
        "    p_level_hi = fuzz.interp_membership(x_p, p_hi, posscore)\n",
        "    p_level_v_hi = fuzz.interp_membership(x_p, p_v_hi, posscore)\n",
        "    \n",
        "    n_level_v_lo= fuzz.interp_membership(x_n, n_v_lo, negscore)\n",
        "    n_level_lo = fuzz.interp_membership(x_n, n_lo, negscore)\n",
        "    n_level_md = fuzz.interp_membership(x_n, n_md, negscore)\n",
        "    n_level_hi = fuzz.interp_membership(x_n, n_hi, negscore)\n",
        "    n_level_v_hi = fuzz.interp_membership(x_n, n_v_hi, negscore)\n",
        "    \n",
        "    # Now we take our rules and apply them. Rule 1 concerns bad food OR nice.\n",
        "    # The OR operator means we take the maximum of these two.\n",
        "    active_rule0 = np.fmin(p_level_v_lo, n_level_v_lo)\n",
        "    active_rule1 = np.fmin(p_level_lo, n_level_v_lo)\n",
        "    active_rule2 = np.fmin(p_level_md, n_level_v_lo)\n",
        "    active_rule3 = np.fmin(p_level_hi,n_level_v_lo)\n",
        "    active_rule4 = np.fmin(p_level_v_hi, n_level_v_lo)\n",
        "    \n",
        "    active_rule5 = np.fmin(p_level_v_lo, n_level_lo)\n",
        "    active_rule6 = np.fmin(p_level_lo, n_level_lo)\n",
        "    active_rule7 = np.fmin(p_level_md,  n_level_lo)\n",
        "    active_rule8 = np.fmin(p_level_hi, n_level_lo)\n",
        "    active_rule9 = np.fmin(p_level_v_hi,  n_level_lo)\n",
        "\n",
        "    active_rule10 = np.fmin(p_level_v_lo, n_level_md)\n",
        "    active_rule11 = np.fmin(p_level_lo, n_level_md)\n",
        "    active_rule12= np.fmin(p_level_md,  n_level_md)\n",
        "    active_rule13= np.fmin(p_level_hi, n_level_md)\n",
        "    active_rule14= np.fmin(p_level_v_hi, n_level_md)\n",
        " \n",
        "    active_rule15 = np.fmin(p_level_v_lo, n_level_hi)\n",
        "    active_rule16 = np.fmin(p_level_lo, n_level_hi)\n",
        "    active_rule17 = np.fmin(p_level_md,  n_level_hi)\n",
        "    active_rule18 = np.fmin(p_level_hi, n_level_hi)\n",
        "    active_rule19 = np.fmin(p_level_v_hi, n_level_hi)\n",
        "\n",
        "    active_rule20 = np.fmin(p_level_v_lo, n_level_v_hi)\n",
        "    active_rule21 = np.fmin(p_level_lo, n_level_v_hi)\n",
        "    active_rule22 = np.fmin(p_level_md, n_level_v_hi)\n",
        "    active_rule23 = np.fmin(p_level_hi, n_level_v_hi)\n",
        "    active_rule24 = np.fmin(p_level_v_hi, n_level_v_hi)\n",
        "    \n",
        "\n",
        "    # Now we apply this by clipping the top off the corresponding output\n",
        "    # membership function with `np.fmin`\n",
        "    # Taking Union of rules with similar output\n",
        "    \n",
        "\n",
        "    op_activation_v_lo = np.fmin(active_rule20,op_v_Neg)\n",
        "  \n",
        "\n",
        "    op_activation_v_hi = np.fmin(active_rule4,op_v_Pos)\n",
        "\n",
        "\n",
        "    n_1=np.fmax(active_rule10,active_rule15)\n",
        "    n_2=np.fmax(n_1,active_rule16) \n",
        "    n_3=np.fmax(n_2,active_rule21)    \n",
        "    n_4=np.fmax(n_3,active_rule22) \n",
        "\n",
        "    op_activation_lo = np.fmin(n_4,op_Neg)\n",
        "\n",
        "\n",
        "    p_1=np.fmax(active_rule2,active_rule3)\n",
        "    p_2=np.fmax(p_1,active_rule8) \n",
        "    p_3=np.fmax(p_2,active_rule9)    \n",
        "    p_4=np.fmax(p_3,active_rule14)  \n",
        "\n",
        "    op_activation_hi = np.fmin(p_4,op_Pos)\n",
        "    \n",
        "\n",
        "    neu1=np.fmax(active_rule0,active_rule1)\n",
        "    neu2=np.fmax(neu1,active_rule5)\n",
        "    neu3=np.fmax(neu2,active_rule6)\n",
        "    neu4=np.fmax(neu3,active_rule7)  \n",
        "    neu5=np.fmax(neu3,active_rule11)\n",
        "    neu6=np.fmax(neu3,active_rule12)\n",
        "    neu7=np.fmax(neu3,active_rule13)\n",
        "    neu8=np.fmax(neu3,active_rule17)\n",
        "    neu9=np.fmax(neu3,active_rule18)\n",
        "    neu10=np.fmax(neu3,active_rule19)\n",
        "    neu11=np.fmax(neu3,active_rule23)\n",
        "    neu12=np.fmax(neu3,active_rule24)\n",
        "  \n",
        "\n",
        "    op_activation_md = np.fmin(neu12,op_Neu)\n",
        "\n",
        "    op0 = np.zeros_like(x_op)\n",
        "    # # Visualize this\n",
        "    # fig, ax0 = plt.subplots(figsize=(8, 3))\n",
        "\n",
        "    # ax0.fill_between(x_op, op0,op_activation_v_lo, facecolor='b', alpha=0.7)\n",
        "    # ax0.plot(x_op, op_v_Neg, 'b', linewidth=0.5, linestyle='--', )\n",
        "    # ax0.fill_between(x_op, op0, op_activation_lo, facecolor='g', alpha=0.7)\n",
        "    # ax0.plot(x_op, op_Neg, 'g', linewidth=0.5, linestyle='--')\n",
        "    # ax0.fill_between(x_op, op0, op_activation_md, facecolor='r', alpha=0.7)\n",
        "    # ax0.plot(x_op, op_Neu, 'r', linewidth=0.5, linestyle='--')\n",
        "    # ax0.fill_between(x_op, op0, op_activation_hi, facecolor='r', alpha=0.7)\n",
        "    # ax0.plot(x_op, op_Pos, 'm', linewidth=0.5, linestyle='--')\n",
        "    # ax0.fill_between(x_op, op0, op_activation_v_hi, facecolor='r', alpha=0.7)\n",
        "    # ax0.plot(x_op, op_v_Pos, 'y', linewidth=0.5, linestyle='--')\n",
        "    # ax0.set_title('Output membership activity')\n",
        "\n",
        "    # # Turn off top/right axes\n",
        "    # for ax in (ax0,):\n",
        "    #     ax.spines['top'].set_visible(False)\n",
        "    #     ax.spines['right'].set_visible(False)\n",
        "    #     ax.get_xaxis().tick_bottom()\n",
        "    #     ax.get_yaxis().tick_left()\n",
        "\n",
        "    # plt.tight_layout()\n",
        "    \n",
        "    # Aggregate all three output membership functions together\n",
        "    aggregated =np.fmax(op_activation_v_hi,\n",
        "                        np.fmax(op_activation_v_lo,\n",
        "                                np.fmax(op_activation_lo,\n",
        "                                        np.fmax(op_activation_md, op_activation_hi))))\n",
        "    \n",
        "    # Calculate defuzzified result\n",
        "    op = fuzz.defuzz(x_op, aggregated, 'centroid') \n",
        "    output=round(op,2)\n",
        "    print(\"OUTPUt\",output)\n",
        "    Out.append(output)\n",
        "   \n",
        "    op_activation = fuzz.interp_membership(x_op, aggregated, op)  # for plot\n",
        "    # # Visualize this\n",
        "    # fig, ax0 = plt.subplots(figsize=(8, 3))\n",
        "\n",
        "    # ax0.plot(x_op, op_v_Neg, 'b', linewidth=0.5, linestyle='--', )\n",
        "    # ax0.plot(x_op, op_Neg, 'g', linewidth=0.5, linestyle='--')\n",
        "    # ax0.plot(x_op, op_Neu, 'r', linewidth=0.5, linestyle='--')\n",
        "    # ax0.plot(x_op, op_Pos, 'm', linewidth=0.5, linestyle='--')\n",
        "    # ax0.plot(x_op, op_v_Pos, 'y', linewidth=0.5, linestyle='--')\n",
        "\n",
        "    # ax0.fill_between(x_op, op0, aggregated, facecolor='Orange', alpha=0.7)\n",
        "    # ax0.plot([op, op], [0, op_activation], 'k', linewidth=1.5, alpha=0.9)\n",
        "    # ax0.set_title('Aggregated membership and result (line)')\n",
        "\n",
        "    # # Turn off top/right axes\n",
        "    # for ax in (ax0,):\n",
        "    #     ax.spines['top'].set_visible(False)\n",
        "    #     ax.spines['right'].set_visible(False)\n",
        "    #     ax.get_xaxis().tick_bottom()\n",
        "    #     ax.get_yaxis().tick_left()\n",
        "\n",
        "    # plt.tight_layout()\n",
        "    if 0<(output)<4:    # R\n",
        "        print(\"\\nOutput after Defuzzification: Negative\")\n",
        "        sentiment.append(\"Negative\")\n",
        "\n",
        "    elif 4<=(output)<6:\n",
        "        print(\"\\nOutput after Defuzzification: Neutral\")\n",
        "        sentiment.append(\"Neutral\")\n",
        "\n",
        "    elif 6<=(output)<10:\n",
        "        print(\"\\nOutput after Defuzzification: Positive\")\n",
        "        sentiment.append(\"Positive\")\n",
        "        \n",
        "    print(\"Doc sentiment: \" +str(senti[j])+\"\\n\")\n",
        "    print(\"-=-=-=-=-=-=-=-=-=-=-=-=-=-=-=-=-=-=-=-=-=-=-=-=-=-=-=-=-=-=-=-=-=-=\")"
      ],
      "execution_count": 18,
      "outputs": [
        {
          "output_type": "stream",
          "text": [
            "1  hello japan is nuclear power plant crisis link ----------------- {'neg': 0.0, 'neu': 1.0, 'pos': 0.0, 'compound': 0.0}\n",
            "\n",
            "Positive Score for each  tweet :\n",
            "0.0\n",
            "\n",
            "Negative Score for each  tweet :\n",
            "0.0\n",
            "0.0\n",
            "0.0\n",
            "0.0\n",
            "0.0\n",
            "0.0\n",
            "0.0\n",
            "0.0\n",
            "0.0\n",
            "0.0\n",
            "0.0\n",
            "0.0\n",
            "OUTPUt 5.0\n",
            "\n",
            "Output after Defuzzification: Neutral\n",
            "Doc sentiment: Negative\n",
            "\n",
            "-=-=-=-=-=-=-=-=-=-=-=-=-=-=-=-=-=-=-=-=-=-=-=-=-=-=-=-=-=-=-=-=-=-=\n"
          ],
          "name": "stdout"
        }
      ]
    },
    {
      "cell_type": "code",
      "metadata": {
        "id": "ODVjT4ibowui"
      },
      "source": [
        "# 3rd approach  (medium results)\n",
        "# SIA = SentimentIntensityAnalyzer()\n",
        "# Out=[]\n",
        "# sentiment=[]\n",
        "# sentiment_doc=[]\n",
        "# for j in range(len(doc)):\n",
        "#     sentiment_doc.append(senti[j])\n",
        "#     ss = SIA.polarity_scores(tweets[j])\n",
        "#     posscore=ss['pos']\n",
        "#     negscore=ss['neg']\n",
        "#     neuscore=ss['neu']\n",
        "#     compoundscore=ss['compound']\n",
        "   \n",
        "#     print(str(j+1)+\" {:-<65} {}\".format(tweets[j], str(ss))) \n",
        "    \n",
        "#     print(\"\\nPositive Score for each  tweet :\")    \n",
        "#     if (posscore==1):\n",
        "#         posscore=0.9 \n",
        "#     else:\n",
        "#         posscore=round(posscore,1)\n",
        "#     print(posscore)\n",
        "\n",
        "#     print(\"\\nNegative Score for each  tweet :\")\n",
        "#     if (negscore==1):\n",
        "#         negscore=0.9\n",
        "#     else:\n",
        "#         negscore=round(negscore,1)\n",
        "#     print(negscore)\n",
        "\n",
        "# # We need the activation of our fuzzy membership functions at these values.\n",
        "#     p_level_v_lo=fuzz.interp_membership(x_p, p_v_lo, posscore)\n",
        "#     p_level_lo = fuzz.interp_membership(x_p, p_lo, posscore)\n",
        "#     p_level_md = fuzz.interp_membership(x_p, p_md, posscore)\n",
        "#     p_level_hi = fuzz.interp_membership(x_p, p_hi, posscore)\n",
        "#     p_level_v_hi = fuzz.interp_membership(x_p, p_v_hi, posscore)\n",
        "    \n",
        "#     n_level_v_lo= fuzz.interp_membership(x_n, n_v_lo, negscore)\n",
        "#     n_level_lo = fuzz.interp_membership(x_n, n_lo, negscore)\n",
        "#     n_level_md = fuzz.interp_membership(x_n, n_md, negscore)\n",
        "#     n_level_hi = fuzz.interp_membership(x_n, n_hi, negscore)\n",
        "#     n_level_v_hi = fuzz.interp_membership(x_n, n_v_hi, negscore)\n",
        "    \n",
        "#     # Now we take our rules and apply them. Rule 1 concerns bad food OR nice.\n",
        "#     # The OR operator means we take the maximum of these two.\n",
        "#     active_rule0 = np.fmin(p_level_v_lo, n_level_v_lo)\n",
        "#     active_rule1 = np.fmin(p_level_lo, n_level_v_lo)\n",
        "#     active_rule2 = np.fmin(p_level_md, n_level_v_lo)\n",
        "#     active_rule3 = np.fmin(p_level_hi,n_level_v_lo)\n",
        "#     active_rule4 = np.fmin(p_level_v_hi, n_level_v_lo)\n",
        "    \n",
        "#     active_rule5 = np.fmin(p_level_v_lo, n_level_lo)\n",
        "#     active_rule6 = np.fmin(p_level_lo, n_level_lo)\n",
        "#     active_rule7 = np.fmin(p_level_md,  n_level_lo)\n",
        "#     active_rule8 = np.fmin(p_level_hi, n_level_lo)\n",
        "#     active_rule9 = np.fmin(p_level_v_hi,  n_level_lo)\n",
        "\n",
        "#     active_rule10 = np.fmin(p_level_v_lo, n_level_md)\n",
        "#     active_rule11 = np.fmin(p_level_lo, n_level_md)\n",
        "#     active_rule12= np.fmin(p_level_md,  n_level_md)\n",
        "#     active_rule13= np.fmin(p_level_hi, n_level_md)\n",
        "#     active_rule14= np.fmin(p_level_v_hi, n_level_md)\n",
        " \n",
        "#     active_rule15 = np.fmin(p_level_v_lo, n_level_hi)\n",
        "#     active_rule16 = np.fmin(p_level_lo, n_level_hi)\n",
        "#     active_rule17 = np.fmin(p_level_md,  n_level_hi)\n",
        "#     active_rule18 = np.fmin(p_level_hi, n_level_hi)\n",
        "#     active_rule19 = np.fmin(p_level_v_hi, n_level_hi)\n",
        "\n",
        "#     active_rule20 = np.fmin(p_level_v_lo, n_level_v_hi)\n",
        "#     active_rule21 = np.fmin(p_level_lo, n_level_v_hi)\n",
        "#     active_rule22 = np.fmin(p_level_md, n_level_v_hi)\n",
        "#     active_rule23 = np.fmin(p_level_hi, n_level_v_hi)\n",
        "#     active_rule24 = np.fmin(p_level_v_hi, n_level_v_hi)\n",
        "    \n",
        "#     # Now we apply this by clipping the top off the corresponding output\n",
        "#     # membership function with `np.fmin`\n",
        "#     # Taking Union of rules with similar output\n",
        "    \n",
        "\n",
        "#     op_activation_v_lo = np.fmin(active_rule20,op_v_Neg)\n",
        "  \n",
        "#     v_p_1=np.fmax(active_rule3,active_rule4)\n",
        "#     v_p_2=np.fmax(v_p_1,active_rule9)\n",
        "\n",
        "#     op_activation_v_hi = np.fmin(v_p_2,op_v_Pos)\n",
        "\n",
        "\n",
        "#     n_1=np.fmax(active_rule10,active_rule15)\n",
        "#     n_2=np.fmax(n_1,active_rule16) \n",
        "#     n_3=np.fmax(n_2,active_rule21)    \n",
        "#     n_4=np.fmax(n_3,active_rule22) \n",
        "\n",
        "#     op_activation_lo = np.fmin(n_4,op_Neg)\n",
        "\n",
        "\n",
        "#     p_1=np.fmax(active_rule2,active_rule1)\n",
        "#     p_2=np.fmax(p_1,active_rule7) \n",
        "#     p_3=np.fmax(p_2,active_rule8)    \n",
        "#     p_4=np.fmax(p_3,active_rule13)\n",
        "#     p_5=np.fmax(p_3,active_rule14)   \n",
        "#     p_6=np.fmax(p_3,active_rule19) \n",
        "\n",
        "#     op_activation_hi = np.fmin(p_6,op_Pos)\n",
        "    \n",
        "\n",
        "#     neu1=np.fmax(active_rule0,active_rule5)\n",
        "#     neu2=np.fmax(neu1,active_rule6)\n",
        "#     neu3=np.fmax(neu2,active_rule11)\n",
        "#     neu4=np.fmax(neu3,active_rule12)  \n",
        "#     neu5=np.fmax(neu3,active_rule17)\n",
        "#     neu6=np.fmax(neu3,active_rule18)\n",
        "#     neu7=np.fmax(neu3,active_rule23)\n",
        "#     neu8=np.fmax(neu3,active_rule24)\n",
        "\n",
        "#     op_activation_md = np.fmin(neu8,op_Neu)\n",
        "\n",
        "#     op0 = np.zeros_like(x_op)\n",
        "    \n",
        "#     # Aggregate all three output membership functions together\n",
        "#     aggregated =np.fmax(op_activation_v_hi,\n",
        "#                         np.fmax(op_activation_v_lo,\n",
        "#                                 np.fmax(op_activation_lo,\n",
        "#                                         np.fmax(op_activation_md, op_activation_hi))))\n",
        "    \n",
        "#     # Calculate defuzzified result\n",
        "#     op = fuzz.defuzz(x_op, aggregated, 'centroid')\n",
        "#     output=round(op,2)\n",
        "#     print(\"OUTPUt\",output)\n",
        "#     Out.append(output)\n",
        "   \n",
        "#     op_activation = fuzz.interp_membership(x_op, aggregated, op)  # for plot\n",
        "#     if 0<(output)<3:    # R\n",
        "#         print(\"\\nOutput after Defuzzification: Negative\")\n",
        "#         sentiment.append(\"Negative\")\n",
        "\n",
        "#     elif 3<=(output)<7:\n",
        "#         print(\"\\nOutput after Defuzzification: Neutral\")\n",
        "#         sentiment.append(\"Neutral\")\n",
        "\n",
        "#     elif 7<=(output)<10:\n",
        "#         print(\"\\nOutput after Defuzzification: Positive\")\n",
        "#         sentiment.append(\"Positive\")\n",
        "        \n",
        "#     print(\"Doc sentiment: \" +str(senti[j])+\"\\n\")\n",
        "#     print(\"-=-=-=-=-=-=-=-=-=-=-=-=-=-=-=-=-=-=-=-=-=-=-=-=-=-=-=-=-=-=-=-=-=-=\")"
      ],
      "execution_count": null,
      "outputs": []
    },
    {
      "cell_type": "code",
      "metadata": {
        "id": "UEAmMGNe9fzw"
      },
      "source": [
        "# d = {'col1': sentiment, 'col2': sentiment_doc}\n",
        "# df = pd.DataFrame(data=d)\n",
        "# df"
      ],
      "execution_count": null,
      "outputs": []
    },
    {
      "cell_type": "code",
      "metadata": {
        "id": "iHEginlU25Nz"
      },
      "source": [
        "# for i in range(len(sentiment_doc)):\n",
        "#   if sentiment_doc[i]=='Neutral / author is just sharing information':\n",
        "#     sentiment_doc[i]='Neutral'\n",
        "\n"
      ],
      "execution_count": null,
      "outputs": []
    },
    {
      "cell_type": "code",
      "metadata": {
        "id": "IJ7RadL5FB_z"
      },
      "source": [
        "# pd.set_option('max_rows', 99999)\n",
        "# d = {'True': sentiment_doc, 'Pred': sentiment}\n",
        "\n",
        "# df = pd.DataFrame(data=d)\n",
        "# print(df)"
      ],
      "execution_count": null,
      "outputs": []
    },
    {
      "cell_type": "code",
      "metadata": {
        "id": "6Yh-GKl1SSOw"
      },
      "source": [
        "pd.set_option('display.max_rows', 30)"
      ],
      "execution_count": null,
      "outputs": []
    },
    {
      "cell_type": "code",
      "metadata": {
        "id": "qLPX2EOlwBuj",
        "outputId": "bb237e15-a4e4-45e1-e1fc-4f2827768000",
        "colab": {
          "base_uri": "https://localhost:8080/",
          "height": 54
        }
      },
      "source": [
        "print(len(sentiment))\n",
        "print(len(sentiment_doc))"
      ],
      "execution_count": null,
      "outputs": [
        {
          "output_type": "stream",
          "text": [
            "20632\n",
            "20632\n"
          ],
          "name": "stdout"
        }
      ]
    },
    {
      "cell_type": "code",
      "metadata": {
        "id": "-G0RoRmMl-aO"
      },
      "source": [
        "from sklearn.metrics import f1_score, precision_score, recall_score,accuracy_score\n",
        "y_true = sentiment_doc\n",
        "y_pred = sentiment\n",
        "# df=pd.DataFrame({'true':y_true,'pred':y_pred})\n",
        "# df"
      ],
      "execution_count": null,
      "outputs": []
    },
    {
      "cell_type": "code",
      "metadata": {
        "id": "bkGYsr1mohYE",
        "outputId": "af48fbb1-5b11-478b-a09f-4cc8720dde79",
        "colab": {
          "base_uri": "https://localhost:8080/",
          "height": 36
        }
      },
      "source": [
        "asc=accuracy_score(y_true, y_pred)\n",
        "print(asc)"
      ],
      "execution_count": null,
      "outputs": [
        {
          "output_type": "stream",
          "text": [
            "0.5354788677782086\n"
          ],
          "name": "stdout"
        }
      ]
    },
    {
      "cell_type": "code",
      "metadata": {
        "id": "Pq56WakNmYoB",
        "outputId": "b32aff84-c180-4fea-90ca-cb750a184e06",
        "colab": {
          "base_uri": "https://localhost:8080/",
          "height": 148
        }
      },
      "source": [
        "f1ma=f1_score(y_true, y_pred, average='macro')\n",
        "f1mi=f1_score(y_true, y_pred, average='micro')\n",
        "pma=precision_score(y_true, y_pred, average='macro')\n",
        "pmi=precision_score(y_true, y_pred, average='micro')\n",
        "rma=recall_score(y_true, y_pred, average='macro')\n",
        "rmi=recall_score(y_true, y_pred, average='micro')\n",
        "acc=accuracy_score(y_true, y_pred)\n",
        "print('f1ma',f1ma)\n",
        "print('f1mi',f1mi)\n",
        "print('pma',pma)\n",
        "print('pmi',pmi)\n",
        "print('rma',rma)\n",
        "print('rmi',rmi)\n",
        "print('acc',acc)"
      ],
      "execution_count": null,
      "outputs": [
        {
          "output_type": "stream",
          "text": [
            "f1ma 0.3239441695114006\n",
            "f1mi 0.5354788677782086\n",
            "pma 0.6836065688376946\n",
            "pmi 0.5354788677782086\n",
            "rma 0.3808026829882077\n",
            "rmi 0.5354788677782086\n",
            "acc 0.5354788677782086\n"
          ],
          "name": "stdout"
        }
      ]
    }
  ]
}